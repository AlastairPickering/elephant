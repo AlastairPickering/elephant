{
 "cells": [
  {
   "cell_type": "markdown",
   "id": "d6c385f6",
   "metadata": {},
   "source": [
    "# Forest elephant vocalisation call-type classification\n",
    "\n",
    "This Jupyter notebook provides a step-by-step guide to using unsupervised deep learning techniques to classify forest elephant vocalisation call-types and evaluate the performance of these techniques. In this notebook, we take a datset containing three different forest elephant vocalisations and use the unsupervised techniques to automatically extract the acoustic features, project these high-dimensional features into lower dimensional space and evaluate how well these methods have been able to distinguish the call-types. \n",
    "\n",
    "## Dataset Description\n",
    "\n",
    "The call-type dataset contains audio files of African forest elephants recorded by the Elephant Listening Project in the Dzanga-Bai clearing in the the southwestern Central African Republic between September 2018 and April 2019. It has 1254 rows each representing an elephant vocalisation with the start time, end time, low frequency and high frequency annotated alongside the call-type (roar, rumble or trumpet).\n",
    "\n",
    "## Steps\n",
    "\n",
    "The steps follow those described in the methods section of **link** with an additional step 0 introduced to import the necessary libraries. Steps 2 & 3 are combined in this notebook as this is a more computationally efficient way of processing the information. The separate functions can be viewed in the feature_extraction.py script.\n",
    "\n",
    "0. **Set-up** Import the libraries and functions needed to conduct the analysis\n",
    "1. **Vocalisation dataset**: Load the dataset and understand its structure.\n",
    "2. **Audio pre-processing**: Pre-process the data to isolate the vocalisations and automatically and \n",
    "3. **Feature extraction**: extract the acoustic features using a pre-trained Convolutional Neural Network.\n",
    "4. **Dimensionality reduction**: Project the acoustic features into 2D space to visualise the call-type classifications.\n",
    "5. **Statistical analysis**: Perform statistical tests to evalute how well the call-types have been identified."
   ]
  },
  {
   "cell_type": "markdown",
   "id": "5c167756",
   "metadata": {},
   "source": [
    "### 0. Set-up"
   ]
  },
  {
   "cell_type": "markdown",
   "id": "8e5347cf",
   "metadata": {},
   "source": [
    "Here we will import a series of pre-defined scripts used to automate the import of the libraries needed for each of the aforementioned steps. These are all located in the \"elephant_scripts\" folder in the main project repository."
   ]
  },
  {
   "cell_type": "code",
   "execution_count": 1,
   "id": "a8969531-cc03-4b3d-82c0-cc1dca0fb5f6",
   "metadata": {},
   "outputs": [
    {
     "name": "stderr",
     "output_type": "stream",
     "text": [
      "2023-08-10 18:02:03.199546: I tensorflow/core/platform/cpu_feature_guard.cc:193] This TensorFlow binary is optimized with oneAPI Deep Neural Network Library (oneDNN) to use the following CPU instructions in performance-critical operations:  SSE4.1 SSE4.2\n",
      "To enable them in other operations, rebuild TensorFlow with the appropriate compiler flags.\n"
     ]
    },
    {
     "name": "stdout",
     "output_type": "stream",
     "text": [
      "Main libraries successfully imported\n",
      "Info file loaded: /Users/alastairpickering/Desktop/Alastair/Ecology and Data Science/Research project/elephant_analysis_repository_github/data/1.elephant_call_type_df.csv\n",
      "Audio file paths added to DataFrame\n",
      "Vocalisation Dataset successfully loaded\n",
      "Functions for Audio Pre-processing and Feature Extraction successfully loaded\n",
      "Functions for Dimensionality Reduction successfully loaded\n",
      "Functions for Statistical Analysis successfully imported\n"
     ]
    }
   ],
   "source": [
    "# Step 0: load all of the main libraries needed for the notebook set-up\n",
    "from elephant_scripts.import_libraries import * \n",
    "\n",
    "# Step 1: load the script for the vocalisation dataset \n",
    "from elephant_scripts.load_data import * #\n",
    "\n",
    "# Step 2 & 3: load the functions needed for audio pre-processing and feature extraction\n",
    "from elephant_scripts.feature_extraction import read_audio, apply_bandpass_filter, extract_audio, normalise_sound_file, wav_cookiecutter, feature_extraction, feature_heatmap\n",
    "\n",
    "# Step 4: load the functions needed for dimensionality reduction\n",
    "from elephant_scripts.umap_projections import *\n",
    "\n",
    "# Step 5: load the functions to calculate and visualise silhouette scores for the statistical analysis\n",
    "from elephant_scripts.silhouette_score import * \n",
    "\n",
    "# enable plots to be auto-displayed in the notebook\n",
    "%matplotlib inline "
   ]
  },
  {
   "cell_type": "markdown",
   "id": "67548614",
   "metadata": {},
   "source": [
    "### 1. Vocalisation dataset"
   ]
  },
  {
   "cell_type": "markdown",
   "id": "701a6414",
   "metadata": {},
   "source": [
    "In the set-up step we have specified the directories used for the audio and metadata files, named the label columns and associated the individual wav files with their respective rows in the metadata dataframe. We'll now view the dataframe to make sure it looks as intended."
   ]
  },
  {
   "cell_type": "code",
   "execution_count": 2,
   "id": "08a668a2",
   "metadata": {},
   "outputs": [
    {
     "data": {
      "text/html": [
       "<div>\n",
       "<style scoped>\n",
       "    .dataframe tbody tr th:only-of-type {\n",
       "        vertical-align: middle;\n",
       "    }\n",
       "\n",
       "    .dataframe tbody tr th {\n",
       "        vertical-align: top;\n",
       "    }\n",
       "\n",
       "    .dataframe thead th {\n",
       "        text-align: right;\n",
       "    }\n",
       "</style>\n",
       "<table border=\"1\" class=\"dataframe\">\n",
       "  <thead>\n",
       "    <tr style=\"text-align: right;\">\n",
       "      <th></th>\n",
       "      <th>filename</th>\n",
       "      <th>recording_id</th>\n",
       "      <th>start_time</th>\n",
       "      <th>end_time</th>\n",
       "      <th>duration</th>\n",
       "      <th>low_freq</th>\n",
       "      <th>high_freq</th>\n",
       "      <th>call-type</th>\n",
       "      <th>audio_filepaths</th>\n",
       "    </tr>\n",
       "  </thead>\n",
       "  <tbody>\n",
       "    <tr>\n",
       "      <th>0</th>\n",
       "      <td>opp_328_ro.wav</td>\n",
       "      <td>683</td>\n",
       "      <td>2.928746</td>\n",
       "      <td>4.904429</td>\n",
       "      <td>1.975683</td>\n",
       "      <td>130.078125</td>\n",
       "      <td>1981.909180</td>\n",
       "      <td>Roar</td>\n",
       "      <td>/Users/alastairpickering/Desktop/Alastair/Ecol...</td>\n",
       "    </tr>\n",
       "    <tr>\n",
       "      <th>1</th>\n",
       "      <td>opp_329_ro.wav</td>\n",
       "      <td>77</td>\n",
       "      <td>3.430024</td>\n",
       "      <td>4.583235</td>\n",
       "      <td>1.153211</td>\n",
       "      <td>1.318359</td>\n",
       "      <td>245.214844</td>\n",
       "      <td>Rumble</td>\n",
       "      <td>/Users/alastairpickering/Desktop/Alastair/Ecol...</td>\n",
       "    </tr>\n",
       "    <tr>\n",
       "      <th>2</th>\n",
       "      <td>opp_329_ro.wav</td>\n",
       "      <td>76</td>\n",
       "      <td>1.615771</td>\n",
       "      <td>3.615637</td>\n",
       "      <td>1.999866</td>\n",
       "      <td>196.948242</td>\n",
       "      <td>1985.546875</td>\n",
       "      <td>Roar</td>\n",
       "      <td>/Users/alastairpickering/Desktop/Alastair/Ecol...</td>\n",
       "    </tr>\n",
       "    <tr>\n",
       "      <th>3</th>\n",
       "      <td>opp_330_ru.wav</td>\n",
       "      <td>226</td>\n",
       "      <td>1.628424</td>\n",
       "      <td>3.790237</td>\n",
       "      <td>2.161813</td>\n",
       "      <td>1.220703</td>\n",
       "      <td>326.464844</td>\n",
       "      <td>Rumble</td>\n",
       "      <td>/Users/alastairpickering/Desktop/Alastair/Ecol...</td>\n",
       "    </tr>\n",
       "    <tr>\n",
       "      <th>4</th>\n",
       "      <td>opp_331_ro.wav</td>\n",
       "      <td>376</td>\n",
       "      <td>2.656950</td>\n",
       "      <td>3.346179</td>\n",
       "      <td>0.689229</td>\n",
       "      <td>57.446289</td>\n",
       "      <td>1937.133789</td>\n",
       "      <td>Roar</td>\n",
       "      <td>/Users/alastairpickering/Desktop/Alastair/Ecol...</td>\n",
       "    </tr>\n",
       "    <tr>\n",
       "      <th>5</th>\n",
       "      <td>opp_332_ru.wav</td>\n",
       "      <td>137</td>\n",
       "      <td>2.229882</td>\n",
       "      <td>5.752067</td>\n",
       "      <td>3.522186</td>\n",
       "      <td>1.635742</td>\n",
       "      <td>197.631836</td>\n",
       "      <td>Rumble</td>\n",
       "      <td>/Users/alastairpickering/Desktop/Alastair/Ecol...</td>\n",
       "    </tr>\n",
       "    <tr>\n",
       "      <th>6</th>\n",
       "      <td>opp_333_ru.wav</td>\n",
       "      <td>642</td>\n",
       "      <td>3.098901</td>\n",
       "      <td>6.639745</td>\n",
       "      <td>3.540844</td>\n",
       "      <td>0.756836</td>\n",
       "      <td>197.167969</td>\n",
       "      <td>Rumble</td>\n",
       "      <td>/Users/alastairpickering/Desktop/Alastair/Ecol...</td>\n",
       "    </tr>\n",
       "    <tr>\n",
       "      <th>7</th>\n",
       "      <td>opp_365_trumpet.wav</td>\n",
       "      <td>1100</td>\n",
       "      <td>2.097081</td>\n",
       "      <td>2.565536</td>\n",
       "      <td>0.468455</td>\n",
       "      <td>33.789062</td>\n",
       "      <td>1937.377930</td>\n",
       "      <td>Trumpet</td>\n",
       "      <td>/Users/alastairpickering/Desktop/Alastair/Ecol...</td>\n",
       "    </tr>\n",
       "    <tr>\n",
       "      <th>8</th>\n",
       "      <td>opp_365_trumpet.wav</td>\n",
       "      <td>1101</td>\n",
       "      <td>0.018448</td>\n",
       "      <td>0.803142</td>\n",
       "      <td>0.784694</td>\n",
       "      <td>48.730469</td>\n",
       "      <td>1971.850586</td>\n",
       "      <td>Trumpet</td>\n",
       "      <td>/Users/alastairpickering/Desktop/Alastair/Ecol...</td>\n",
       "    </tr>\n",
       "    <tr>\n",
       "      <th>9</th>\n",
       "      <td>opp_397_trumpet.wav</td>\n",
       "      <td>654</td>\n",
       "      <td>1.879193</td>\n",
       "      <td>2.764525</td>\n",
       "      <td>0.885332</td>\n",
       "      <td>131.787109</td>\n",
       "      <td>1957.934570</td>\n",
       "      <td>Trumpet</td>\n",
       "      <td>/Users/alastairpickering/Desktop/Alastair/Ecol...</td>\n",
       "    </tr>\n",
       "  </tbody>\n",
       "</table>\n",
       "</div>"
      ],
      "text/plain": [
       "              filename  recording_id  start_time  end_time  duration  \\\n",
       "0       opp_328_ro.wav           683    2.928746  4.904429  1.975683   \n",
       "1       opp_329_ro.wav            77    3.430024  4.583235  1.153211   \n",
       "2       opp_329_ro.wav            76    1.615771  3.615637  1.999866   \n",
       "3       opp_330_ru.wav           226    1.628424  3.790237  2.161813   \n",
       "4       opp_331_ro.wav           376    2.656950  3.346179  0.689229   \n",
       "5       opp_332_ru.wav           137    2.229882  5.752067  3.522186   \n",
       "6       opp_333_ru.wav           642    3.098901  6.639745  3.540844   \n",
       "7  opp_365_trumpet.wav          1100    2.097081  2.565536  0.468455   \n",
       "8  opp_365_trumpet.wav          1101    0.018448  0.803142  0.784694   \n",
       "9  opp_397_trumpet.wav           654    1.879193  2.764525  0.885332   \n",
       "\n",
       "     low_freq    high_freq call-type  \\\n",
       "0  130.078125  1981.909180      Roar   \n",
       "1    1.318359   245.214844    Rumble   \n",
       "2  196.948242  1985.546875      Roar   \n",
       "3    1.220703   326.464844    Rumble   \n",
       "4   57.446289  1937.133789      Roar   \n",
       "5    1.635742   197.631836    Rumble   \n",
       "6    0.756836   197.167969    Rumble   \n",
       "7   33.789062  1937.377930   Trumpet   \n",
       "8   48.730469  1971.850586   Trumpet   \n",
       "9  131.787109  1957.934570   Trumpet   \n",
       "\n",
       "                                     audio_filepaths  \n",
       "0  /Users/alastairpickering/Desktop/Alastair/Ecol...  \n",
       "1  /Users/alastairpickering/Desktop/Alastair/Ecol...  \n",
       "2  /Users/alastairpickering/Desktop/Alastair/Ecol...  \n",
       "3  /Users/alastairpickering/Desktop/Alastair/Ecol...  \n",
       "4  /Users/alastairpickering/Desktop/Alastair/Ecol...  \n",
       "5  /Users/alastairpickering/Desktop/Alastair/Ecol...  \n",
       "6  /Users/alastairpickering/Desktop/Alastair/Ecol...  \n",
       "7  /Users/alastairpickering/Desktop/Alastair/Ecol...  \n",
       "8  /Users/alastairpickering/Desktop/Alastair/Ecol...  \n",
       "9  /Users/alastairpickering/Desktop/Alastair/Ecol...  "
      ]
     },
     "execution_count": 2,
     "metadata": {},
     "output_type": "execute_result"
    }
   ],
   "source": [
    "# Visualise the vocalisation dataset\n",
    "df"
   ]
  },
  {
   "cell_type": "markdown",
   "id": "451bdc53",
   "metadata": {},
   "source": [
    "### 2. Audio pre-processing and 3. Feature extraction"
   ]
  },
  {
   "cell_type": "markdown",
   "id": "4f7c9d36",
   "metadata": {},
   "source": [
    "Now that the dataframe is loaded and associated with the audio files, we need to pre-process the audio files to extract the exact frequency ranges and time periods associated with the vocalisations. This helps to minimise unwanted environmental sound that may cause erroneous results. These pre-processed audio files are then passed through the VGGish pre-trained CNN in 0.96s multiples and their acoustic features are automatically extracted to produce embeddings. These embeddings are then averaged to obtain a single embedding per vocalisation. These are the steps take to pre-process the files and extract their audio features:\n",
    "\n",
    "1. Read the entire audio file.\n",
    "2. Apply a bandpass filter to exclude frequencies outside the vocalisation range using the low_frequency and high_frequency information.\n",
    "3. Extract the audio clip corresponding to the vocalisation using the start_time and end_time information.\n",
    "4. Normalise the audio clip to have a peak amplitude of 1 to control for elephant distance from the microphone.\n",
    "5. Pad the audio to a length that is a multiple of 96 (the input size of the VGGish model) and centre the recording within this padding.\n",
    "6. Extract the acoustic feature embeddings for each 96-sample chunk of the audio clip using the pretrained CNN VGGish.\n",
    "7. Average the embeddings across the chunks to obtain a single embedding for each vocalisation.\n",
    "8. Add in information about the duration of each vocalisation\n",
    "\n",
    "This resulting embedding encodes the acoustic feature representation of the vocalisation.\n",
    "\n",
    "These steps are carried out using a series of functions in the combined feature_extraction.py file"
   ]
  },
  {
   "cell_type": "code",
   "execution_count": 3,
   "id": "28053bf7",
   "metadata": {
    "scrolled": true
   },
   "outputs": [
    {
     "name": "stderr",
     "output_type": "stream",
     "text": [
      "2023-08-10 18:02:42.198688: I tensorflow/core/platform/cpu_feature_guard.cc:193] This TensorFlow binary is optimized with oneAPI Deep Neural Network Library (oneDNN) to use the following CPU instructions in performance-critical operations:  SSE4.1 SSE4.2\n",
      "To enable them in other operations, rebuild TensorFlow with the appropriate compiler flags.\n",
      "Processing: 100%|███████████████████████████████| 10/10 [00:02<00:00,  4.93it/s]\n"
     ]
    },
    {
     "name": "stdout",
     "output_type": "stream",
     "text": [
      "Features successfully extracted\n",
      "Features successfully averaged per vocalisation\n",
      "Duration successfully added as the 129th feature\n"
     ]
    }
   ],
   "source": [
    "# Pass the vocalisation dataframe through the pre-processing functions before extracting the acoustic features\n",
    "results = feature_extraction(df)"
   ]
  },
  {
   "cell_type": "markdown",
   "id": "e3ab889c",
   "metadata": {},
   "source": [
    "It can be hard to conceptualise the output of the feature extraction process. Here we can see a representation of the 129 features (x-axis) normalised on a 0-1 scale for each of the 1254 recordings (y-axis). "
   ]
  },
  {
   "cell_type": "code",
   "execution_count": 4,
   "id": "3f05bd75",
   "metadata": {},
   "outputs": [
    {
     "data": {
      "image/png": "[encoded data removed]",
      "text/plain": [
       "<Figure size 1200x1000 with 2 Axes>"
      ]
     },
     "metadata": {},
     "output_type": "display_data"
    }
   ],
   "source": [
    "# Show feature heatmap of 129 acoustic features per recording\n",
    "feature_heatmap(results);"
   ]
  },
  {
   "cell_type": "code",
   "execution_count": 5,
   "id": "0b03fc61",
   "metadata": {},
   "outputs": [],
   "source": [
    "# Save the extracted acoustic features to a csv file\n",
    "results.to_csv(os.path.join(os.path.sep, DATA, 'acoustic_features.csv'))"
   ]
  },
  {
   "cell_type": "markdown",
   "id": "0a08e09a",
   "metadata": {},
   "source": [
    "### 4. Dimensionality reduction"
   ]
  },
  {
   "cell_type": "markdown",
   "id": "534b634a",
   "metadata": {},
   "source": [
    "Now that we have the 129D embeddings for each of the 1254 recordings we need to reduce this high-dimensional data into lower dimensional space to make it interpretable to the human brain and usable in the statistical tests. This involves 4 steps:\n",
    "1. Specify the parameters for the dimensionality reduction, including the number of components (2) and distance metric we want to use (cosine)\n",
    "2. Normalise the 129D embeddings so that their mean = 0 and variance = 1. This ensures equal weighting of the features\n",
    "3. Carry out the dimensionality reduction\n",
    "4. Visualise the results to enable observation of clustering"
   ]
  },
  {
   "cell_type": "code",
   "execution_count": 6,
   "id": "af7495ca-ce88-4838-acd8-a8e7217607d2",
   "metadata": {},
   "outputs": [],
   "source": [
    "# Load the saved acoustic features\n",
    "results = pd.read_csv(os.path.join(os.path.sep, DATA, 'acoustic_features.csv'))"
   ]
  },
  {
   "cell_type": "code",
   "execution_count": 7,
   "id": "015d5a84",
   "metadata": {},
   "outputs": [],
   "source": [
    "# Specify the UMAP parameters\n",
    "results_df = results # name of the dataframe where the embeddings are contained\n",
    "metadata_df = df # name of the dataframe where the call-type labels are contained\n",
    "N_COMP = 2 # select 1, 2 or 3 dimensions\n",
    "metric = 'cosine' # defaults to euclidean but can specify 'cosine' or other distance metrics\n",
    "min_dist = 0 # minimum distance apart that points are allowed to be in the low dimensional representation"
   ]
  },
  {
   "cell_type": "code",
   "execution_count": 8,
   "id": "4707db7c",
   "metadata": {},
   "outputs": [
    {
     "name": "stdout",
     "output_type": "stream",
     "text": [
      "Acoustic features normalised\n"
     ]
    },
    {
     "name": "stderr",
     "output_type": "stream",
     "text": [
      "OMP: Info #276: omp_set_nested routine deprecated, please use omp_set_max_active_levels instead.\n"
     ]
    },
    {
     "name": "stdout",
     "output_type": "stream",
     "text": [
      "Dimensionality reduction completed\n"
     ]
    },
    {
     "data": {
      "image/png": "[encoded data removed]",
      "text/plain": [
       "<Figure size 1000x1000 with 1 Axes>"
      ]
     },
     "metadata": {},
     "output_type": "display_data"
    }
   ],
   "source": [
    "# Carry out the normalisation of the acoustic features and dimensionality reduction \n",
    "umap_df = umap_projections(results_df, metadata_df, N_COMP, metric = metric, min_dist = 0)\n",
    "\n",
    "# Visualise the results to enable observation of clustering\n",
    "plt.figure(figsize=(10, 10))\n",
    "sns.scatterplot(x=umap_df['UMAP1'], y=umap_df['UMAP2'], hue=umap_df['call-type']);"
   ]
  },
  {
   "cell_type": "markdown",
   "id": "27d8ce5a",
   "metadata": {},
   "source": [
    "### 5. Statistical analysis"
   ]
  },
  {
   "cell_type": "markdown",
   "id": "1f0aa0b8",
   "metadata": {},
   "source": [
    "We can visually assess the level of separation achieved by the unsupervised methods but this needs to be accompanied by a statistical analysis of its performance. We will do this by calculating the overall silhouette score for the data and the silhouette score per call-type.\n",
    "\n",
    "The silhouete score is a mathematical representation of the tightness and separation of each cluster (Rousseeuw, 1987). It is calculated as the mean Euclidean distance between data points within a cluster (a) and the mean Euclidean distance to points in the nearest cluster (Rousseeuw, 1987).\n",
    "\n",
    "Typically, silhouette scores >=0.5 show evidence for clustering, while those >=0.7 show strong evidence for clustering."
   ]
  },
  {
   "cell_type": "code",
   "execution_count": 9,
   "id": "255cf6d5",
   "metadata": {},
   "outputs": [
    {
     "name": "stdout",
     "output_type": "stream",
     "text": [
      "Average Silhouette Score: 0.1981186\n",
      "Label: Roar Silhouette Score: -0.005800202488899231\n",
      "Label: Rumble Silhouette Score: 0.19862161576747894\n",
      "Label: Trumpet Silhouette Score: 0.4013667106628418\n"
     ]
    }
   ],
   "source": [
    "# Define data and embeddings \n",
    "embeddings = umap_df[['UMAP1', 'UMAP2']].values\n",
    "labels = umap_df['call-type'].values\n",
    "\n",
    "# Calculate the overall silhouette score for the whole vocalisation dataset\n",
    "silhouette_scores_obj = SilhouetteScores(embedding=embeddings, labels=labels)\n",
    "avrg_score = silhouette_scores_obj.get_avrg_score()\n",
    "print(\"Average Silhouette Score:\", avrg_score)\n",
    "\n",
    "# Calculate the silhouette score per call-type\n",
    "scores_per_class = silhouette_scores_obj.get_score_per_class()\n",
    "for label, score in zip(silhouette_scores_obj.labeltypes, scores_per_class):\n",
    "    print(\"Label:\", label, \"Silhouette Score:\", score)"
   ]
  },
  {
   "cell_type": "code",
   "execution_count": 10,
   "id": "000ee67c",
   "metadata": {},
   "outputs": [
    {
     "data": {
      "image/png": "[encoded data removed]",
      "text/plain": [
       "<Figure size 900x700 with 1 Axes>"
      ]
     },
     "metadata": {},
     "output_type": "display_data"
    }
   ],
   "source": [
    "# Plot the silhouette plot\n",
    "silhouette_scores_obj.plot_sil(embedding_type=\"UMAP\", outname=\"silhouette_plot.png\")"
   ]
  }
 ],
 "metadata": {
  "kernelspec": {
   "display_name": "Python 3 (ipykernel)",
   "language": "python",
   "name": "python3"
  },
  "language_info": {
   "codemirror_mode": {
    "name": "ipython",
    "version": 3
   },
   "file_extension": ".py",
   "mimetype": "text/x-python",
   "name": "python",
   "nbconvert_exporter": "python",
   "pygments_lexer": "ipython3",
   "version": "3.10.9"
  }
 },
 "nbformat": 4,
 "nbformat_minor": 5
}
